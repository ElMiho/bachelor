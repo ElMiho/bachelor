{
 "cells": [
  {
   "cell_type": "markdown",
   "metadata": {},
   "source": [
    "# Hypergeometric summation"
   ]
  },
  {
   "cell_type": "code",
   "execution_count": 1,
   "metadata": {},
   "outputs": [],
   "source": [
    "from sympy import *\n",
    "x, y = symbols(\"x y\")\n",
    "init_printing()\n",
    "\n",
    "def shift_operator(f, k=1):\n",
    "    if isinstance(f, int):\n",
    "        return f\n",
    "    else:\n",
    "        return f.subs({x: x + k})\n",
    "\n",
    "def falling_factorial(f, m):\n",
    "    p = 1\n",
    "    for i in range(m):\n",
    "        p *= shift_operator(f, i)\n",
    "\n",
    "    return p\n",
    "\n",
    "def multiple_of_summation_denominator(a, b):\n",
    "    \"\"\"\n",
    "    Input: Polynomials a,b where gcd(a, b) != 1 and b != 0 monic\n",
    "\n",
    "    Output: A monic polynomial V for which v divides V as desribed in Section 4.3\n",
    "    \"\"\"\n",
    "    R = resultant(a, b.subs({x: x + y}))\n",
    "    d = max(\n",
    "        [0, *[r for r in solve(R) if r.is_integer and r > 0]]\n",
    "    )\n",
    "    if d == 0:\n",
    "        return 1\n",
    "    else:\n",
    "        V = 1\n",
    "        for i in range(1, d+1):\n",
    "            H_i = gcd(shift_operator(a, -1), shift_operator(b, i-1))\n",
    "            V *= falling_factorial(H_i, i)\n",
    "\n",
    "        return expand(V)\n",
    "\n",
    "def hypergeometric_summation(a, b, show_info=False):\n",
    "    \"\"\"\n",
    "    Input: Nonzero coprime polynomials a, b where b != monic\n",
    "\n",
    "    Output: Coprime polynomials u, v such that a v \\cdot E u - b u \\cdot E v = b v \\cdot E v if they exist\n",
    "    \"\"\"\n",
    "    V = multiple_of_summation_denominator(a, b)\n",
    "    h = expand(\n",
    "        gcd(a * V, b * shift_operator(V, 1))\n",
    "    )\n",
    "    r = expand(simplify(a*V/h))\n",
    "    s = expand(simplify(b * shift_operator(V, 1) / h))\n",
    "    t = expand(simplify(s * V))\n",
    "\n",
    "    if show_info:\n",
    "        display(\"V\")\n",
    "        display(V)\n",
    "        display(\"h, r, s, t\")\n",
    "        display(h, r, s, t)\n",
    "\n",
    "    m = max(\n",
    "        degree(r, x) - 1,\n",
    "        degree(s - r, x)\n",
    "    )\n",
    "    delta = (s - r).coeff(x, m)\n",
    "    \n",
    "    if show_info: print(f\"\"\"m = {m} \\ndelta = {delta}\"\"\")\n",
    "\n",
    "    if degree(r, x) - 1 < degree(s - r, x) or (not (delta.is_integer and delta >= 0)):\n",
    "        e = degree(t, x) - m\n",
    "        if show_info: print(f\"\"\"Case 1) e = {e} \"\"\")\n",
    "    elif degree(t, x) - m == delta:\n",
    "        if show_info: print(\"Case 2)\")\n",
    "        return \"unsolvable\"\n",
    "    else:\n",
    "        e = max(degree(t, x) - m, delta)\n",
    "        if show_info: print(f\"\"\"Case 3) e = {e} \"\"\")\n",
    "        if show_info: print(f\"\"\"delta = {delta}, degree(t, x) - m = {degree(t, x) - m}\"\"\")\n",
    "\n",
    "    if e < 0:\n",
    "        if show_info: print(\"\"\"e < 0\"\"\")\n",
    "        return \"unsolvable\"\n",
    "    \n",
    "    U_coeffs = symbols(f\"U0:{e+1}\")\n",
    "    U = sum([\n",
    "        U_i * x**i for i, U_i in enumerate(U_coeffs)\n",
    "    ])\n",
    "    if show_info: display(U)\n",
    "\n",
    "    lhs = expand(r * shift_operator(U, 1) - s * U)\n",
    "    rhs = t\n",
    "\n",
    "    equations = []\n",
    "    l = max(degree(lhs, x), degree(rhs, x))\n",
    "    for i in range(l+1):\n",
    "        equations.append(\n",
    "            Eq(lhs.coeff(x, i), rhs.coeff(x, i))\n",
    "        )\n",
    "    if show_info: \n",
    "        print(\"Linear system\")\n",
    "        [display(equation) for equation in equations]\n",
    "\n",
    "    solution = solve(equations)\n",
    "    display(solution)\n",
    "    if solution == []:\n",
    "        return \"unsolvable\"\n",
    "    else:\n",
    "        Up = sum([solution.get(U_coeffs[i], 0) * x**i for i in range(e+1)])\n",
    "        \n",
    "        if show_info:\n",
    "            print(\"Solution\")\n",
    "            display(solution)  \n",
    "            print(\"so U =\")  \n",
    "            display(Up)\n",
    "\n",
    "        return simplify(Up/gcd(Up, V)), simplify(V/gcd(Up, V))"
   ]
  },
  {
   "cell_type": "markdown",
   "metadata": {},
   "source": [
    "## Example 1"
   ]
  },
  {
   "cell_type": "code",
   "execution_count": 3,
   "metadata": {},
   "outputs": [
    {
     "data": {
      "image/png": "[encoded data removed]",
      "text/latex": [
       "$\\displaystyle 2^{x} x$"
      ],
      "text/plain": [
       " x  \n",
       "2 ⋅x"
      ]
     },
     "metadata": {},
     "output_type": "display_data"
    },
    {
     "data": {
      "image/png": "[encoded data removed]",
      "text/latex": [
       "$\\displaystyle 2 + \\frac{2}{x}$"
      ],
      "text/plain": [
       "    2\n",
       "2 + ─\n",
       "    x"
      ]
     },
     "execution_count": 3,
     "metadata": {},
     "output_type": "execute_result"
    }
   ],
   "source": [
    "g = x*2**x\n",
    "display(g)\n",
    "simplify(shift_operator(g) / g)"
   ]
  },
  {
   "cell_type": "code",
   "execution_count": 5,
   "metadata": {},
   "outputs": [
    {
     "data": {
      "image/png": "[encoded data removed]",
      "text/latex": [
       "$\\displaystyle 2 + \\frac{2}{x}$"
      ],
      "text/plain": [
       "    2\n",
       "2 + ─\n",
       "    x"
      ]
     },
     "metadata": {},
     "output_type": "display_data"
    }
   ],
   "source": [
    "a = 2 * x + 2\n",
    "b = x\n",
    "display(simplify(a/b))"
   ]
  },
  {
   "cell_type": "code",
   "execution_count": 7,
   "metadata": {},
   "outputs": [
    {
     "data": {
      "text/plain": [
       "'V'"
      ]
     },
     "metadata": {},
     "output_type": "display_data"
    },
    {
     "data": {
      "image/png": "[encoded data removed]",
      "text/latex": [
       "$\\displaystyle x$"
      ],
      "text/plain": [
       "x"
      ]
     },
     "metadata": {},
     "output_type": "display_data"
    },
    {
     "data": {
      "text/plain": [
       "'h, r, s, t'"
      ]
     },
     "metadata": {},
     "output_type": "display_data"
    },
    {
     "data": {
      "image/png": "[encoded data removed]",
      "text/latex": [
       "$\\displaystyle x^{2} + x$"
      ],
      "text/plain": [
       " 2    \n",
       "x  + x"
      ]
     },
     "metadata": {},
     "output_type": "display_data"
    },
    {
     "data": {
      "image/png": "[encoded data removed]",
      "text/latex": [
       "$\\displaystyle 2$"
      ],
      "text/plain": [
       "2"
      ]
     },
     "metadata": {},
     "output_type": "display_data"
    },
    {
     "data": {
      "image/png": "[encoded data removed]",
      "text/latex": [
       "$\\displaystyle 1$"
      ],
      "text/plain": [
       "1"
      ]
     },
     "metadata": {},
     "output_type": "display_data"
    },
    {
     "data": {
      "image/png": "[encoded data removed]",
      "text/latex": [
       "$\\displaystyle x$"
      ],
      "text/plain": [
       "x"
      ]
     },
     "metadata": {},
     "output_type": "display_data"
    },
    {
     "name": "stdout",
     "output_type": "stream",
     "text": [
      "m = 0 \n",
      "delta = -1\n",
      "Case 1) e = 1 \n"
     ]
    },
    {
     "data": {
      "image/png": "[encoded data removed]",
      "text/latex": [
       "$\\displaystyle U_{0} + U_{1} x$"
      ],
      "text/plain": [
       "U₀ + U₁⋅x"
      ]
     },
     "metadata": {},
     "output_type": "display_data"
    },
    {
     "name": "stdout",
     "output_type": "stream",
     "text": [
      "Linear system\n"
     ]
    },
    {
     "data": {
      "image/png": "[encoded data removed]",
      "text/latex": [
       "$\\displaystyle U_{0} + 2 U_{1} = 0$"
      ],
      "text/plain": [
       "U₀ + 2⋅U₁ = 0"
      ]
     },
     "metadata": {},
     "output_type": "display_data"
    },
    {
     "data": {
      "image/png": "[encoded data removed]",
      "text/latex": [
       "$\\displaystyle U_{1} = 1$"
      ],
      "text/plain": [
       "U₁ = 1"
      ]
     },
     "metadata": {},
     "output_type": "display_data"
    },
    {
     "data": {
      "image/png": "[encoded data removed]",
      "text/latex": [
       "$\\displaystyle \\left\\{ U_{0} : -2, \\  U_{1} : 1\\right\\}$"
      ],
      "text/plain": [
       "{U₀: -2, U₁: 1}"
      ]
     },
     "metadata": {},
     "output_type": "display_data"
    },
    {
     "name": "stdout",
     "output_type": "stream",
     "text": [
      "Solution\n"
     ]
    },
    {
     "data": {
      "image/png": "[encoded data removed]",
      "text/latex": [
       "$\\displaystyle \\left\\{ U_{0} : -2, \\  U_{1} : 1\\right\\}$"
      ],
      "text/plain": [
       "{U₀: -2, U₁: 1}"
      ]
     },
     "metadata": {},
     "output_type": "display_data"
    },
    {
     "name": "stdout",
     "output_type": "stream",
     "text": [
      "so U =\n"
     ]
    },
    {
     "data": {
      "image/png": "[encoded data removed]",
      "text/latex": [
       "$\\displaystyle x - 2$"
      ],
      "text/plain": [
       "x - 2"
      ]
     },
     "metadata": {},
     "output_type": "display_data"
    }
   ],
   "source": [
    "u, v = hypergeometric_summation(a, b, show_info=True)"
   ]
  },
  {
   "cell_type": "code",
   "execution_count": 8,
   "metadata": {},
   "outputs": [
    {
     "data": {
      "image/png": "[encoded data removed]",
      "text/latex": [
       "$\\displaystyle x - 2$"
      ],
      "text/plain": [
       "x - 2"
      ]
     },
     "metadata": {},
     "output_type": "display_data"
    },
    {
     "data": {
      "image/png": "[encoded data removed]",
      "text/latex": [
       "$\\displaystyle x$"
      ],
      "text/plain": [
       "x"
      ]
     },
     "metadata": {},
     "output_type": "display_data"
    }
   ],
   "source": [
    "display(u, v)"
   ]
  },
  {
   "cell_type": "code",
   "execution_count": 10,
   "metadata": {},
   "outputs": [
    {
     "data": {
      "image/png": "[encoded data removed]",
      "text/latex": [
       "$\\displaystyle 2^{x} \\left(x - 2\\right)$"
      ],
      "text/plain": [
       " x        \n",
       "2 ⋅(x - 2)"
      ]
     },
     "metadata": {},
     "output_type": "display_data"
    },
    {
     "data": {
      "image/png": "[encoded data removed]",
      "text/latex": [
       "$\\displaystyle \\left( 2^{x} x, \\  2^{x} x\\right)$"
      ],
      "text/plain": [
       "⎛ x     x  ⎞\n",
       "⎝2 ⋅x, 2 ⋅x⎠"
      ]
     },
     "execution_count": 10,
     "metadata": {},
     "output_type": "execute_result"
    }
   ],
   "source": [
    "f = u / v * g\n",
    "display(f)\n",
    "simplify(f.subs({x: x+1}) - f), g"
   ]
  },
  {
   "cell_type": "code",
   "execution_count": null,
   "metadata": {},
   "outputs": [],
   "source": []
  }
 ],
 "metadata": {
  "kernelspec": {
   "display_name": "Python 3",
   "language": "python",
   "name": "python3"
  },
  "language_info": {
   "codemirror_mode": {
    "name": "ipython",
    "version": 3
   },
   "file_extension": ".py",
   "mimetype": "text/x-python",
   "name": "python",
   "nbconvert_exporter": "python",
   "pygments_lexer": "ipython3",
   "version": "3.11.4"
  }
 },
 "nbformat": 4,
 "nbformat_minor": 2
}
