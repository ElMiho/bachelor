{
 "cells": [
  {
   "cell_type": "markdown",
   "metadata": {},
   "source": [
    "# Hyperexponential integration"
   ]
  },
  {
   "cell_type": "code",
   "execution_count": 1,
   "metadata": {},
   "outputs": [],
   "source": [
    "from sympy import *\n",
    "x, y = symbols(\"x y\")\n",
    "init_printing()\n",
    "\n",
    "def multiple_of_integration_denominator(a, b):\n",
    "    \"\"\"\n",
    "    Input: Polynomials a,b where gcd(a, b) != 1 and b != 0 monic\n",
    "\n",
    "    Output: A monic polynomial V for which v divides V as desribed in Section 3.2\n",
    "    \"\"\"\n",
    "    R = resultant(b, a - y * diff(b, x), x)\n",
    "    d = max(\n",
    "        [0, *[r for r in solve(R) if r.is_integer and r > 0]]\n",
    "    )\n",
    "    if d == 0:\n",
    "        return 1\n",
    "    else:\n",
    "        V = 1\n",
    "        for i in range(1, d+1):\n",
    "            H_i = gcd(b, a - i * diff(b, x))\n",
    "            V *= H_i**i\n",
    "\n",
    "        return expand(V)\n",
    "\n",
    "def hyperexponential_integration(a, b, show_info=False):\n",
    "    \"\"\"\n",
    "    Input: Nonzero coprime polynomial a, monic polynomial b\n",
    "\n",
    "    Output: Coprime polynomials u, v such that b u' v - b u v' + a u v = b v^2 if they exist\n",
    "    \"\"\"\n",
    "    V = multiple_of_integration_denominator(a, b)\n",
    "    if show_info: \n",
    "        print(\"V = \")\n",
    "        display(V)\n",
    "    h = expand(gcd(b * V, b * diff(V, x) - a * V))\n",
    "    r = expand(b*V/h)\n",
    "    s = expand((b * diff(V, x) - a * V)/h)\n",
    "    t = expand(r * V)\n",
    "\n",
    "    if show_info:\n",
    "        display(\"h, r, s, t\")\n",
    "        display(h)\n",
    "        display(r)\n",
    "        display(s)\n",
    "        display(t)\n",
    "\n",
    "    m = max(\n",
    "        degree(r, x) - 1,\n",
    "        degree(s, x)\n",
    "    )\n",
    "    delta = s.coeff(x, m)\n",
    "    \n",
    "    if show_info: print(f\"\"\"m = {m} \\ndelta = {delta}\"\"\")\n",
    "\n",
    "    if degree(r, x) - 1 < degree(s, x) or (not (delta.is_integer and delta >= 0)):\n",
    "        e = degree(t, x) - m\n",
    "        if show_info: print(f\"\"\"Case 1) e = {e} \"\"\")\n",
    "    elif degree(t, x) - m == delta:\n",
    "        if show_info: print(\"Case 2)\")\n",
    "        return \"unsolvable\"\n",
    "    else:\n",
    "        e = max(degree(t, x) - m, delta)\n",
    "        if show_info: print(f\"\"\"Case 3) e = {e} \"\"\")\n",
    "        if show_info: print(f\"\"\"delta = {delta}, degree(t, x) - m = {degree(t, x) - m}\"\"\")\n",
    "\n",
    "    if e < 0:\n",
    "        if show_info: print(\"\"\"e < 0\"\"\")\n",
    "        return \"unsolvable\"\n",
    "    \n",
    "    U_coeffs = symbols(f\"U0:{e+1}\")\n",
    "    U = sum([\n",
    "        U_i * x**i for i, U_i in enumerate(U_coeffs)\n",
    "    ])\n",
    "    if show_info: display(U)\n",
    "\n",
    "    lhs = expand(r * diff(U, x) - s * U)\n",
    "    rhs = t\n",
    "\n",
    "    equations = []\n",
    "    l = max(degree(lhs, x), degree(rhs, x))\n",
    "    for i in range(l+1):\n",
    "        equations.append(\n",
    "            Eq(lhs.coeff(x, i), rhs.coeff(x, i))\n",
    "        )\n",
    "    if show_info: \n",
    "        print(\"Linear system\")\n",
    "        [display(equation) for equation in equations]\n",
    "\n",
    "    solution = solve(equations)\n",
    "    if solution == []:\n",
    "        return \"unsolvable\"\n",
    "    else:\n",
    "        Up = sum([solution.get(U_coeffs[i], 0) * x**i for i in range(e+1)])\n",
    "        \n",
    "        if show_info:\n",
    "            print(\"Solution\")\n",
    "            display(solution)  \n",
    "            print(\"so U =\")  \n",
    "            display(Up)\n",
    "\n",
    "        return simplify(Up/gcd(Up, V)), simplify(V/gcd(Up, V))"
   ]
  },
  {
   "cell_type": "markdown",
   "metadata": {},
   "source": [
    "## Example 1"
   ]
  },
  {
   "cell_type": "code",
   "execution_count": 3,
   "metadata": {},
   "outputs": [
    {
     "data": {
      "image/png": "[encoded data removed]",
      "text/latex": [
       "$\\displaystyle \\frac{1}{\\left(x^{2} + 1\\right)^{\\frac{5}{2}}}$"
      ],
      "text/plain": [
       "     1     \n",
       "───────────\n",
       "        5/2\n",
       "⎛ 2    ⎞   \n",
       "⎝x  + 1⎠   "
      ]
     },
     "metadata": {},
     "output_type": "display_data"
    },
    {
     "data": {
      "image/png": "[encoded data removed]",
      "text/latex": [
       "$\\displaystyle - \\frac{5 x}{x^{2} + 1}$"
      ],
      "text/plain": [
       "-5⋅x  \n",
       "──────\n",
       " 2    \n",
       "x  + 1"
      ]
     },
     "execution_count": 3,
     "metadata": {},
     "output_type": "execute_result"
    }
   ],
   "source": [
    "g = (x**2 + 1)**(-S(5)/2)\n",
    "display(g)\n",
    "simplify(diff(g, x) / g)"
   ]
  },
  {
   "cell_type": "code",
   "execution_count": 5,
   "metadata": {},
   "outputs": [
    {
     "name": "stdout",
     "output_type": "stream",
     "text": [
      "V = \n"
     ]
    },
    {
     "data": {
      "image/png": "[encoded data removed]",
      "text/latex": [
       "$\\displaystyle 1$"
      ],
      "text/plain": [
       "1"
      ]
     },
     "metadata": {},
     "output_type": "display_data"
    },
    {
     "data": {
      "text/plain": [
       "'h, r, s, t'"
      ]
     },
     "metadata": {},
     "output_type": "display_data"
    },
    {
     "data": {
      "image/png": "[encoded data removed]",
      "text/latex": [
       "$\\displaystyle 1$"
      ],
      "text/plain": [
       "1"
      ]
     },
     "metadata": {},
     "output_type": "display_data"
    },
    {
     "data": {
      "image/png": "[encoded data removed]",
      "text/latex": [
       "$\\displaystyle x^{2} + 1$"
      ],
      "text/plain": [
       " 2    \n",
       "x  + 1"
      ]
     },
     "metadata": {},
     "output_type": "display_data"
    },
    {
     "data": {
      "image/png": "[encoded data removed]",
      "text/latex": [
       "$\\displaystyle 5 x$"
      ],
      "text/plain": [
       "5⋅x"
      ]
     },
     "metadata": {},
     "output_type": "display_data"
    },
    {
     "data": {
      "image/png": "[encoded data removed]",
      "text/latex": [
       "$\\displaystyle x^{2} + 1$"
      ],
      "text/plain": [
       " 2    \n",
       "x  + 1"
      ]
     },
     "metadata": {},
     "output_type": "display_data"
    },
    {
     "name": "stdout",
     "output_type": "stream",
     "text": [
      "m = 1 \n",
      "delta = 5\n",
      "Case 3) e = 5 \n",
      "delta = 5, degree(t, x) - m = 1\n"
     ]
    },
    {
     "data": {
      "image/png": "[encoded data removed]",
      "text/latex": [
       "$\\displaystyle U_{0} + U_{1} x + U_{2} x^{2} + U_{3} x^{3} + U_{4} x^{4} + U_{5} x^{5}$"
      ],
      "text/plain": [
       "                2       3       4       5\n",
       "U₀ + U₁⋅x + U₂⋅x  + U₃⋅x  + U₄⋅x  + U₅⋅x "
      ]
     },
     "metadata": {},
     "output_type": "display_data"
    },
    {
     "name": "stdout",
     "output_type": "stream",
     "text": [
      "Linear system\n"
     ]
    },
    {
     "data": {
      "image/png": "[encoded data removed]",
      "text/latex": [
       "$\\displaystyle U_{1} = 1$"
      ],
      "text/plain": [
       "U₁ = 1"
      ]
     },
     "metadata": {},
     "output_type": "display_data"
    },
    {
     "data": {
      "image/png": "[encoded data removed]",
      "text/latex": [
       "$\\displaystyle - 5 U_{0} + 2 U_{2} = 0$"
      ],
      "text/plain": [
       "-5⋅U₀ + 2⋅U₂ = 0"
      ]
     },
     "metadata": {},
     "output_type": "display_data"
    },
    {
     "data": {
      "image/png": "[encoded data removed]",
      "text/latex": [
       "$\\displaystyle - 4 U_{1} + 3 U_{3} = 1$"
      ],
      "text/plain": [
       "-4⋅U₁ + 3⋅U₃ = 1"
      ]
     },
     "metadata": {},
     "output_type": "display_data"
    },
    {
     "data": {
      "image/png": "[encoded data removed]",
      "text/latex": [
       "$\\displaystyle - 3 U_{2} + 4 U_{4} = 0$"
      ],
      "text/plain": [
       "-3⋅U₂ + 4⋅U₄ = 0"
      ]
     },
     "metadata": {},
     "output_type": "display_data"
    },
    {
     "data": {
      "image/png": "[encoded data removed]",
      "text/latex": [
       "$\\displaystyle - 2 U_{3} + 5 U_{5} = 0$"
      ],
      "text/plain": [
       "-2⋅U₃ + 5⋅U₅ = 0"
      ]
     },
     "metadata": {},
     "output_type": "display_data"
    },
    {
     "data": {
      "image/png": "[encoded data removed]",
      "text/latex": [
       "$\\displaystyle - U_{4} = 0$"
      ],
      "text/plain": [
       "-U₄ = 0"
      ]
     },
     "metadata": {},
     "output_type": "display_data"
    },
    {
     "name": "stdout",
     "output_type": "stream",
     "text": [
      "Solution\n"
     ]
    },
    {
     "data": {
      "image/png": "[encoded data removed]",
      "text/latex": [
       "$\\displaystyle \\left\\{ U_{0} : 0, \\  U_{1} : 1, \\  U_{2} : 0, \\  U_{3} : \\frac{5}{3}, \\  U_{4} : 0, \\  U_{5} : \\frac{2}{3}\\right\\}$"
      ],
      "text/plain": [
       "{U₀: 0, U₁: 1, U₂: 0, U₃: 5/3, U₄: 0, U₅: 2/3}"
      ]
     },
     "metadata": {},
     "output_type": "display_data"
    },
    {
     "name": "stdout",
     "output_type": "stream",
     "text": [
      "so U =\n"
     ]
    },
    {
     "data": {
      "image/png": "[encoded data removed]",
      "text/latex": [
       "$\\displaystyle \\frac{2 x^{5}}{3} + \\frac{5 x^{3}}{3} + x$"
      ],
      "text/plain": [
       "   5      3    \n",
       "2⋅x    5⋅x     \n",
       "──── + ──── + x\n",
       " 3      3      "
      ]
     },
     "metadata": {},
     "output_type": "display_data"
    }
   ],
   "source": [
    "u, v = hyperexponential_integration(-5*x, x**2 + 1, show_info=True)"
   ]
  },
  {
   "cell_type": "code",
   "execution_count": 6,
   "metadata": {},
   "outputs": [
    {
     "data": {
      "image/png": "[encoded data removed]",
      "text/latex": [
       "$\\displaystyle \\frac{x \\left(2 x^{4} + 5 x^{2} + 3\\right)}{3}$"
      ],
      "text/plain": [
       "  ⎛   4      2    ⎞\n",
       "x⋅⎝2⋅x  + 5⋅x  + 3⎠\n",
       "───────────────────\n",
       "         3         "
      ]
     },
     "metadata": {},
     "output_type": "display_data"
    },
    {
     "data": {
      "image/png": "[encoded data removed]",
      "text/latex": [
       "$\\displaystyle 1$"
      ],
      "text/plain": [
       "1"
      ]
     },
     "metadata": {},
     "output_type": "display_data"
    }
   ],
   "source": [
    "display(u, v)"
   ]
  },
  {
   "cell_type": "code",
   "execution_count": 9,
   "metadata": {},
   "outputs": [
    {
     "data": {
      "image/png": "[encoded data removed]",
      "text/latex": [
       "$\\displaystyle \\frac{x \\left(2 x^{4} + 5 x^{2} + 3\\right)}{3 \\left(x^{2} + 1\\right)^{\\frac{5}{2}}}$"
      ],
      "text/plain": [
       "  ⎛   4      2    ⎞\n",
       "x⋅⎝2⋅x  + 5⋅x  + 3⎠\n",
       "───────────────────\n",
       "             5/2   \n",
       "     ⎛ 2    ⎞      \n",
       "   3⋅⎝x  + 1⎠      "
      ]
     },
     "metadata": {},
     "output_type": "display_data"
    },
    {
     "data": {
      "image/png": "[encoded data removed]",
      "text/latex": [
       "$\\displaystyle \\left( \\frac{1}{\\sqrt{x^{2} + 1} \\left(x^{4} + 2 x^{2} + 1\\right)}, \\  \\frac{1}{\\left(x^{2} + 1\\right)^{\\frac{5}{2}}}\\right)$"
      ],
      "text/plain": [
       "⎛             1                    1     ⎞\n",
       "⎜───────────────────────────, ───────────⎟\n",
       "⎜   ________                          5/2⎟\n",
       "⎜  ╱  2      ⎛ 4      2    ⎞  ⎛ 2    ⎞   ⎟\n",
       "⎝╲╱  x  + 1 ⋅⎝x  + 2⋅x  + 1⎠  ⎝x  + 1⎠   ⎠"
      ]
     },
     "execution_count": 9,
     "metadata": {},
     "output_type": "execute_result"
    }
   ],
   "source": [
    "f = u/v * g\n",
    "display(f)\n",
    "simplify(expand(diff(f, x))), g"
   ]
  },
  {
   "cell_type": "markdown",
   "metadata": {},
   "source": [
    "Note: These are the same but Sympy cannot simplify it for some reason. "
   ]
  },
  {
   "cell_type": "markdown",
   "metadata": {},
   "source": []
  }
 ],
 "metadata": {
  "kernelspec": {
   "display_name": "Python 3",
   "language": "python",
   "name": "python3"
  },
  "language_info": {
   "codemirror_mode": {
    "name": "ipython",
    "version": 3
   },
   "file_extension": ".py",
   "mimetype": "text/x-python",
   "name": "python",
   "nbconvert_exporter": "python",
   "pygments_lexer": "ipython3",
   "version": "3.11.4"
  }
 },
 "nbformat": 4,
 "nbformat_minor": 2
}
