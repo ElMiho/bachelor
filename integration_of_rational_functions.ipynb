{
 "cells": [
  {
   "cell_type": "markdown",
   "metadata": {},
   "source": [
    "# Integration of rational functions"
   ]
  },
  {
   "cell_type": "code",
   "execution_count": 1,
   "metadata": {},
   "outputs": [],
   "source": [
    "from sympy import *\n",
    "x, y = symbols(\"x y\")\n",
    "init_printing()\n",
    "\n",
    "def squarefree_factorization(f):\n",
    "    \"\"\"\n",
    "    Input: Monic f where deg(f) > 0\n",
    "\n",
    "    Output: The squarefree factorization of f as described in Section 2.1\n",
    "    \"\"\"\n",
    "    u = gcd(f, diff(f, x))\n",
    "    v_1 = simplify(f / u)\n",
    "    w_1 = simplify(diff(f, x) / u)\n",
    "\n",
    "    v_list = [v_1]\n",
    "    w_list = [w_1]\n",
    "    h_list = []\n",
    "    i = 0\n",
    "    while v_list[i] != 1:\n",
    "        h_i = gcd(v_list[i], w_list[i] - diff(v_list[i], x))\n",
    "        v_i_p_1 = v_list[i] / h_i\n",
    "        w_i_p_1 = (w_list[i] - diff(v_list[i], x)) / h_i\n",
    "\n",
    "        v_list.append(simplify(v_i_p_1))\n",
    "        w_list.append(simplify(w_i_p_1))\n",
    "        h_list.append(h_i)\n",
    "\n",
    "        i += 1\n",
    "\n",
    "    return h_list\n",
    "\n",
    "def partial_fraction_decomposition(g, f_decomposition):\n",
    "    \"\"\"\n",
    "    Input: f_decomposition = [(f_1, e_1), ..., (f_r, e_r)] such that f = prod(fi**ei, i = 1, ..., r)\n",
    "\n",
    "    Output: The partial fraction decomposition of g with respect to f as described in Section 2.2\n",
    "    \"\"\"\n",
    "    g_list = [[] for _ in f_decomposition]\n",
    "    for i, (f_i, e_i) in enumerate(f_decomposition):\n",
    "        q = rem(g * prod([invert(f_j**e_j, f_i**e_i) for j, (f_j, e_j) in enumerate(f_decomposition) if j != i]), f_i**e_i)\n",
    "        for j in range(e_i, 0, -1):\n",
    "            g_i_j = rem(q, f_i)\n",
    "            q = Poly(quo(q, f_i), x)\n",
    "\n",
    "            g_list[i].append(g_i_j)\n",
    "\n",
    "    [x.reverse() for x in g_list]\n",
    "    return g_list\n",
    "\n",
    "def linear_diophantine_equation(f, g, a):\n",
    "    \"\"\"\n",
    "    Input: f, g, a are polynomials\n",
    "\n",
    "    Output: s, t such that s f + t g = a such that deg(s) < deg(g) - deg(h) and deg(t) < deg(f) - deg(h) where h = gcd(f, g)\n",
    "    \"\"\"\n",
    "    s0, t0, h = gcdex(f, g)\n",
    "    if rem(Poly(a, x), Poly(h, x)) != 0:\n",
    "        return \"no such solution\"\n",
    "    \n",
    "    s_star, t_star = s0 * a / h, t0 * a / h\n",
    "\n",
    "    q, t = div(t_star, f/h)\n",
    "    s = s_star + q * g/h\n",
    "\n",
    "    return s, t\n",
    "\n",
    "def complete_hermite_method(h_i_j_list, g_i_list):\n",
    "    \"\"\"\n",
    "    See Section 3.1\n",
    "    \"\"\"\n",
    "    V = 0\n",
    "    m = len(h_i_j_list)\n",
    "    for i in range(2, m+1):\n",
    "        for j in range(i, 2-1, -1):\n",
    "            g_i = g_i_list[i-1]\n",
    "            h_i_j = h_i_j_list[i-1][j-1]\n",
    "            s, t = linear_diophantine_equation(g_i, diff(g_i, x), h_i_j)\n",
    "            V += (-t) / ((j - 1) * g_i**(j-1))\n",
    "            h_i_j_list[i-1][j-1-1] += s + diff(t, x) / (j - 1)\n",
    "    \n",
    "    return [h_i[0] for h_i in h_i_j_list], V\n",
    "\n",
    "def integration_of_rational_functions(f, g, show_info=False):\n",
    "    \"\"\"\n",
    "    Input: Coprime polynomials f, g and g != 0 is monic\n",
    "\n",
    "    Output: Integral of f/g\n",
    "    \"\"\"\n",
    "    f = Poly(f, x)\n",
    "    g = Poly(g, x)\n",
    "    \n",
    "    if gcd(f, g) != 1 or g == 0 or g.LC() != 1:\n",
    "        return \"f and g must be coprime, g != 0 and g must be monic\" \n",
    "    \n",
    "    # Normal integration\n",
    "    h = rem(f, g)\n",
    "    u = quo(f, g)\n",
    "    U = integrate(u.as_expr(), x)\n",
    "    \n",
    "    if show_info:\n",
    "        display(\"Normal integration\")\n",
    "        display(\"h = \", h.as_expr())\n",
    "        display(\"u = \", u.as_expr())\n",
    "        display(\"U = \", U.as_expr())\n",
    "\n",
    "    # Hermite reduction\n",
    "    g_i_list = squarefree_factorization(g)\n",
    "    h_i_j_list = partial_fraction_decomposition(h, [(g_i, i+1) for i, g_i in enumerate(g_i_list)])\n",
    "    h_i_1_list, V = complete_hermite_method(h_i_j_list, g_i_list)\n",
    "\n",
    "    if show_info:\n",
    "        display(\"Hermite reduction\")\n",
    "        display(\"g_i_list = \", [g_i.as_expr() for g_i in g_i_list])\n",
    "        display(\"h_i_j_list = \", [[h_i_j.as_expr() for h_i_j in h_i_j_list_i] for h_i_j_list_i in h_i_j_list])\n",
    "        display(\"h_i_1_list = \", [h_i_1.as_expr() for h_i_1 in h_i_1_list])\n",
    "        display(\"V = \", V)\n",
    "\n",
    "    # Repeated Rothstein-Trager\n",
    "    W = 0\n",
    "    m = len(h_i_1_list)\n",
    "    if show_info:\n",
    "        display(\"Repeated Rothstein-Trager\")\n",
    "        display(\"m = \", m)\n",
    "    \n",
    "    for i in range(1, m+1):\n",
    "        a = Poly(h_i_1_list[i-1], x)\n",
    "        b = Poly(g_i_list[i-1], x)\n",
    "        r = resultant(b, a - y * diff(b, x), x)\n",
    "        c_list = list(set(solve(Eq(r, 0))))\n",
    "\n",
    "        v_i_list = [gcd(b, a - c_i * diff(b, x)) for c_i in c_list]\n",
    "\n",
    "        if show_info:\n",
    "            display(\"i = \", i)\n",
    "            display(\"a = \", a.as_expr())\n",
    "            display(\"b = \", b.as_expr())\n",
    "            display(\"r = \", r.as_expr())\n",
    "            display(\"c_list = \", c_list)\n",
    "            display(\"v_i_list = \", [v_i.as_expr() for v_i in v_i_list])\n",
    "\n",
    "        W += sum(\n",
    "            [c_j * log(v_j.as_expr()) for c_j, v_j in zip(c_list, v_i_list)]\n",
    "        )\n",
    "    \n",
    "    if show_info:\n",
    "        display(\"W = \", W)\n",
    "\n",
    "    return U + V + W"
   ]
  },
  {
   "cell_type": "markdown",
   "metadata": {},
   "source": [
    "## Example 1"
   ]
  },
  {
   "cell_type": "code",
   "execution_count": 2,
   "metadata": {},
   "outputs": [
    {
     "data": {
      "text/plain": [
       "'Normal integration'"
      ]
     },
     "metadata": {},
     "output_type": "display_data"
    },
    {
     "data": {
      "text/plain": [
       "'h = '"
      ]
     },
     "metadata": {},
     "output_type": "display_data"
    },
    {
     "data": {
      "image/png": "[encoded data removed]",
      "text/latex": [
       "$\\displaystyle 1$"
      ],
      "text/plain": [
       "1"
      ]
     },
     "metadata": {},
     "output_type": "display_data"
    },
    {
     "data": {
      "text/plain": [
       "'u = '"
      ]
     },
     "metadata": {},
     "output_type": "display_data"
    },
    {
     "data": {
      "image/png": "[encoded data removed]",
      "text/latex": [
       "$\\displaystyle 0$"
      ],
      "text/plain": [
       "0"
      ]
     },
     "metadata": {},
     "output_type": "display_data"
    },
    {
     "data": {
      "text/plain": [
       "'U = '"
      ]
     },
     "metadata": {},
     "output_type": "display_data"
    },
    {
     "data": {
      "image/png": "[encoded data removed]",
      "text/latex": [
       "$\\displaystyle 0$"
      ],
      "text/plain": [
       "0"
      ]
     },
     "metadata": {},
     "output_type": "display_data"
    },
    {
     "data": {
      "text/plain": [
       "'Hermite reduction'"
      ]
     },
     "metadata": {},
     "output_type": "display_data"
    },
    {
     "data": {
      "text/plain": [
       "'g_i_list = '"
      ]
     },
     "metadata": {},
     "output_type": "display_data"
    },
    {
     "data": {
      "image/png": "[encoded data removed]",
      "text/latex": [
       "$\\displaystyle \\left[ x\\right]$"
      ],
      "text/plain": [
       "[x]"
      ]
     },
     "metadata": {},
     "output_type": "display_data"
    },
    {
     "data": {
      "text/plain": [
       "'h_i_j_list = '"
      ]
     },
     "metadata": {},
     "output_type": "display_data"
    },
    {
     "data": {
      "image/png": "[encoded data removed]",
      "text/latex": [
       "$\\displaystyle \\left[ \\left[ 1\\right]\\right]$"
      ],
      "text/plain": [
       "[[1]]"
      ]
     },
     "metadata": {},
     "output_type": "display_data"
    },
    {
     "data": {
      "text/plain": [
       "'h_i_1_list = '"
      ]
     },
     "metadata": {},
     "output_type": "display_data"
    },
    {
     "data": {
      "image/png": "[encoded data removed]",
      "text/latex": [
       "$\\displaystyle \\left[ 1\\right]$"
      ],
      "text/plain": [
       "[1]"
      ]
     },
     "metadata": {},
     "output_type": "display_data"
    },
    {
     "data": {
      "text/plain": [
       "'V = '"
      ]
     },
     "metadata": {},
     "output_type": "display_data"
    },
    {
     "data": {
      "image/png": "[encoded data removed]",
      "text/latex": [
       "$\\displaystyle 0$"
      ],
      "text/plain": [
       "0"
      ]
     },
     "metadata": {},
     "output_type": "display_data"
    },
    {
     "data": {
      "text/plain": [
       "'Repeated Rothstein-Trager'"
      ]
     },
     "metadata": {},
     "output_type": "display_data"
    },
    {
     "data": {
      "text/plain": [
       "'m = '"
      ]
     },
     "metadata": {},
     "output_type": "display_data"
    },
    {
     "data": {
      "image/png": "[encoded data removed]",
      "text/latex": [
       "$\\displaystyle 1$"
      ],
      "text/plain": [
       "1"
      ]
     },
     "metadata": {},
     "output_type": "display_data"
    },
    {
     "data": {
      "text/plain": [
       "'i = '"
      ]
     },
     "metadata": {},
     "output_type": "display_data"
    },
    {
     "data": {
      "image/png": "[encoded data removed]",
      "text/latex": [
       "$\\displaystyle 1$"
      ],
      "text/plain": [
       "1"
      ]
     },
     "metadata": {},
     "output_type": "display_data"
    },
    {
     "data": {
      "text/plain": [
       "'a = '"
      ]
     },
     "metadata": {},
     "output_type": "display_data"
    },
    {
     "data": {
      "image/png": "[encoded data removed]",
      "text/latex": [
       "$\\displaystyle 1$"
      ],
      "text/plain": [
       "1"
      ]
     },
     "metadata": {},
     "output_type": "display_data"
    },
    {
     "data": {
      "text/plain": [
       "'b = '"
      ]
     },
     "metadata": {},
     "output_type": "display_data"
    },
    {
     "data": {
      "image/png": "[encoded data removed]",
      "text/latex": [
       "$\\displaystyle x$"
      ],
      "text/plain": [
       "x"
      ]
     },
     "metadata": {},
     "output_type": "display_data"
    },
    {
     "data": {
      "text/plain": [
       "'r = '"
      ]
     },
     "metadata": {},
     "output_type": "display_data"
    },
    {
     "data": {
      "image/png": "[encoded data removed]",
      "text/latex": [
       "$\\displaystyle 1 - y$"
      ],
      "text/plain": [
       "1 - y"
      ]
     },
     "metadata": {},
     "output_type": "display_data"
    },
    {
     "data": {
      "text/plain": [
       "'c_list = '"
      ]
     },
     "metadata": {},
     "output_type": "display_data"
    },
    {
     "data": {
      "image/png": "[encoded data removed]",
      "text/latex": [
       "$\\displaystyle \\left[ 1\\right]$"
      ],
      "text/plain": [
       "[1]"
      ]
     },
     "metadata": {},
     "output_type": "display_data"
    },
    {
     "data": {
      "text/plain": [
       "'v_i_list = '"
      ]
     },
     "metadata": {},
     "output_type": "display_data"
    },
    {
     "data": {
      "image/png": "[encoded data removed]",
      "text/latex": [
       "$\\displaystyle \\left[ x\\right]$"
      ],
      "text/plain": [
       "[x]"
      ]
     },
     "metadata": {},
     "output_type": "display_data"
    },
    {
     "data": {
      "text/plain": [
       "'W = '"
      ]
     },
     "metadata": {},
     "output_type": "display_data"
    },
    {
     "data": {
      "image/png": "[encoded data removed]",
      "text/latex": [
       "$\\displaystyle \\log{\\left(x \\right)}$"
      ],
      "text/plain": [
       "log(x)"
      ]
     },
     "metadata": {},
     "output_type": "display_data"
    },
    {
     "data": {
      "image/png": "[encoded data removed]",
      "text/latex": [
       "$\\displaystyle \\log{\\left(x \\right)}$"
      ],
      "text/plain": [
       "log(x)"
      ]
     },
     "execution_count": 2,
     "metadata": {},
     "output_type": "execute_result"
    }
   ],
   "source": [
    "integration_of_rational_functions(1, x, show_info=True)"
   ]
  },
  {
   "cell_type": "markdown",
   "metadata": {},
   "source": [
    "## Example 2"
   ]
  },
  {
   "cell_type": "code",
   "execution_count": 4,
   "metadata": {},
   "outputs": [
    {
     "data": {
      "text/plain": [
       "'Normal integration'"
      ]
     },
     "metadata": {},
     "output_type": "display_data"
    },
    {
     "data": {
      "text/plain": [
       "'h = '"
      ]
     },
     "metadata": {},
     "output_type": "display_data"
    },
    {
     "data": {
      "image/png": "[encoded data removed]",
      "text/latex": [
       "$\\displaystyle x$"
      ],
      "text/plain": [
       "x"
      ]
     },
     "metadata": {},
     "output_type": "display_data"
    },
    {
     "data": {
      "text/plain": [
       "'u = '"
      ]
     },
     "metadata": {},
     "output_type": "display_data"
    },
    {
     "data": {
      "image/png": "[encoded data removed]",
      "text/latex": [
       "$\\displaystyle 0$"
      ],
      "text/plain": [
       "0"
      ]
     },
     "metadata": {},
     "output_type": "display_data"
    },
    {
     "data": {
      "text/plain": [
       "'U = '"
      ]
     },
     "metadata": {},
     "output_type": "display_data"
    },
    {
     "data": {
      "image/png": "[encoded data removed]",
      "text/latex": [
       "$\\displaystyle 0$"
      ],
      "text/plain": [
       "0"
      ]
     },
     "metadata": {},
     "output_type": "display_data"
    },
    {
     "data": {
      "text/plain": [
       "'Hermite reduction'"
      ]
     },
     "metadata": {},
     "output_type": "display_data"
    },
    {
     "data": {
      "text/plain": [
       "'g_i_list = '"
      ]
     },
     "metadata": {},
     "output_type": "display_data"
    },
    {
     "data": {
      "image/png": "[encoded data removed]",
      "text/latex": [
       "$\\displaystyle \\left[ x^{2} - 1\\right]$"
      ],
      "text/plain": [
       "⎡ 2    ⎤\n",
       "⎣x  - 1⎦"
      ]
     },
     "metadata": {},
     "output_type": "display_data"
    },
    {
     "data": {
      "text/plain": [
       "'h_i_j_list = '"
      ]
     },
     "metadata": {},
     "output_type": "display_data"
    },
    {
     "data": {
      "image/png": "[encoded data removed]",
      "text/latex": [
       "$\\displaystyle \\left[ \\left[ x\\right]\\right]$"
      ],
      "text/plain": [
       "[[x]]"
      ]
     },
     "metadata": {},
     "output_type": "display_data"
    },
    {
     "data": {
      "text/plain": [
       "'h_i_1_list = '"
      ]
     },
     "metadata": {},
     "output_type": "display_data"
    },
    {
     "data": {
      "image/png": "[encoded data removed]",
      "text/latex": [
       "$\\displaystyle \\left[ x\\right]$"
      ],
      "text/plain": [
       "[x]"
      ]
     },
     "metadata": {},
     "output_type": "display_data"
    },
    {
     "data": {
      "text/plain": [
       "'V = '"
      ]
     },
     "metadata": {},
     "output_type": "display_data"
    },
    {
     "data": {
      "image/png": "[encoded data removed]",
      "text/latex": [
       "$\\displaystyle 0$"
      ],
      "text/plain": [
       "0"
      ]
     },
     "metadata": {},
     "output_type": "display_data"
    },
    {
     "data": {
      "text/plain": [
       "'Repeated Rothstein-Trager'"
      ]
     },
     "metadata": {},
     "output_type": "display_data"
    },
    {
     "data": {
      "text/plain": [
       "'m = '"
      ]
     },
     "metadata": {},
     "output_type": "display_data"
    },
    {
     "data": {
      "image/png": "[encoded data removed]",
      "text/latex": [
       "$\\displaystyle 1$"
      ],
      "text/plain": [
       "1"
      ]
     },
     "metadata": {},
     "output_type": "display_data"
    },
    {
     "data": {
      "text/plain": [
       "'i = '"
      ]
     },
     "metadata": {},
     "output_type": "display_data"
    },
    {
     "data": {
      "image/png": "[encoded data removed]",
      "text/latex": [
       "$\\displaystyle 1$"
      ],
      "text/plain": [
       "1"
      ]
     },
     "metadata": {},
     "output_type": "display_data"
    },
    {
     "data": {
      "text/plain": [
       "'a = '"
      ]
     },
     "metadata": {},
     "output_type": "display_data"
    },
    {
     "data": {
      "image/png": "[encoded data removed]",
      "text/latex": [
       "$\\displaystyle x$"
      ],
      "text/plain": [
       "x"
      ]
     },
     "metadata": {},
     "output_type": "display_data"
    },
    {
     "data": {
      "text/plain": [
       "'b = '"
      ]
     },
     "metadata": {},
     "output_type": "display_data"
    },
    {
     "data": {
      "image/png": "[encoded data removed]",
      "text/latex": [
       "$\\displaystyle x^{2} - 1$"
      ],
      "text/plain": [
       " 2    \n",
       "x  - 1"
      ]
     },
     "metadata": {},
     "output_type": "display_data"
    },
    {
     "data": {
      "text/plain": [
       "'r = '"
      ]
     },
     "metadata": {},
     "output_type": "display_data"
    },
    {
     "data": {
      "image/png": "[encoded data removed]",
      "text/latex": [
       "$\\displaystyle - 4 y^{2} + 4 y - 1$"
      ],
      "text/plain": [
       "     2          \n",
       "- 4⋅y  + 4⋅y - 1"
      ]
     },
     "metadata": {},
     "output_type": "display_data"
    },
    {
     "data": {
      "text/plain": [
       "'c_list = '"
      ]
     },
     "metadata": {},
     "output_type": "display_data"
    },
    {
     "data": {
      "image/png": "[encoded data removed]",
      "text/latex": [
       "$\\displaystyle \\left[ \\frac{1}{2}\\right]$"
      ],
      "text/plain": [
       "[1/2]"
      ]
     },
     "metadata": {},
     "output_type": "display_data"
    },
    {
     "data": {
      "text/plain": [
       "'v_i_list = '"
      ]
     },
     "metadata": {},
     "output_type": "display_data"
    },
    {
     "data": {
      "image/png": "[encoded data removed]",
      "text/latex": [
       "$\\displaystyle \\left[ x^{2} - 1\\right]$"
      ],
      "text/plain": [
       "⎡ 2    ⎤\n",
       "⎣x  - 1⎦"
      ]
     },
     "metadata": {},
     "output_type": "display_data"
    },
    {
     "data": {
      "text/plain": [
       "'W = '"
      ]
     },
     "metadata": {},
     "output_type": "display_data"
    },
    {
     "data": {
      "image/png": "[encoded data removed]",
      "text/latex": [
       "$\\displaystyle \\frac{\\log{\\left(x^{2} - 1 \\right)}}{2}$"
      ],
      "text/plain": [
       "   ⎛ 2    ⎞\n",
       "log⎝x  - 1⎠\n",
       "───────────\n",
       "     2     "
      ]
     },
     "metadata": {},
     "output_type": "display_data"
    },
    {
     "data": {
      "image/png": "[encoded data removed]",
      "text/latex": [
       "$\\displaystyle \\frac{\\log{\\left(x^{2} - 1 \\right)}}{2}$"
      ],
      "text/plain": [
       "   ⎛ 2    ⎞\n",
       "log⎝x  - 1⎠\n",
       "───────────\n",
       "     2     "
      ]
     },
     "execution_count": 4,
     "metadata": {},
     "output_type": "execute_result"
    }
   ],
   "source": [
    "integration_of_rational_functions(x, x**2 - 1, show_info=True)"
   ]
  },
  {
   "cell_type": "code",
   "execution_count": null,
   "metadata": {},
   "outputs": [],
   "source": []
  }
 ],
 "metadata": {
  "kernelspec": {
   "display_name": "Python 3",
   "language": "python",
   "name": "python3"
  },
  "language_info": {
   "codemirror_mode": {
    "name": "ipython",
    "version": 3
   },
   "file_extension": ".py",
   "mimetype": "text/x-python",
   "name": "python",
   "nbconvert_exporter": "python",
   "pygments_lexer": "ipython3",
   "version": "3.11.4"
  }
 },
 "nbformat": 4,
 "nbformat_minor": 2
}
